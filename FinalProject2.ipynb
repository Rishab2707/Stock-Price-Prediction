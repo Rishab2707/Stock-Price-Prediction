{
 "cells": [
  {
   "cell_type": "code",
   "execution_count": 1,
   "metadata": {
    "colab": {},
    "colab_type": "code",
    "id": "6UzBfK8_yT4B"
   },
   "outputs": [],
   "source": [
    "import numpy as np\n",
    "import matplotlib.pyplot as plt\n",
    "import pandas as pd\n",
    "from sklearn.preprocessing import MinMaxScaler"
   ]
  },
  {
   "cell_type": "code",
   "execution_count": 20,
   "metadata": {
    "colab": {
     "base_uri": "https://localhost:8080/",
     "height": 195
    },
    "colab_type": "code",
    "id": "ezJ_Xh67yqtc",
    "outputId": "e13ccf33-11f1-440a-f227-02a2bad33351"
   },
   "outputs": [
    {
     "data": {
      "text/html": [
       "<div>\n",
       "<style scoped>\n",
       "    .dataframe tbody tr th:only-of-type {\n",
       "        vertical-align: middle;\n",
       "    }\n",
       "\n",
       "    .dataframe tbody tr th {\n",
       "        vertical-align: top;\n",
       "    }\n",
       "\n",
       "    .dataframe thead th {\n",
       "        text-align: right;\n",
       "    }\n",
       "</style>\n",
       "<table border=\"1\" class=\"dataframe\">\n",
       "  <thead>\n",
       "    <tr style=\"text-align: right;\">\n",
       "      <th></th>\n",
       "      <th>Open</th>\n",
       "      <th>High</th>\n",
       "      <th>Low</th>\n",
       "      <th>Close</th>\n",
       "      <th>Volume</th>\n",
       "    </tr>\n",
       "  </thead>\n",
       "  <tbody>\n",
       "    <tr>\n",
       "      <th>0</th>\n",
       "      <td>19.000000</td>\n",
       "      <td>25.000000</td>\n",
       "      <td>17.540001</td>\n",
       "      <td>23.889999</td>\n",
       "      <td>18766300</td>\n",
       "    </tr>\n",
       "    <tr>\n",
       "      <th>1</th>\n",
       "      <td>25.790001</td>\n",
       "      <td>30.420000</td>\n",
       "      <td>23.299999</td>\n",
       "      <td>23.830000</td>\n",
       "      <td>17187100</td>\n",
       "    </tr>\n",
       "    <tr>\n",
       "      <th>2</th>\n",
       "      <td>25.000000</td>\n",
       "      <td>25.920000</td>\n",
       "      <td>20.270000</td>\n",
       "      <td>21.959999</td>\n",
       "      <td>8218800</td>\n",
       "    </tr>\n",
       "    <tr>\n",
       "      <th>3</th>\n",
       "      <td>23.000000</td>\n",
       "      <td>23.100000</td>\n",
       "      <td>18.709999</td>\n",
       "      <td>19.200001</td>\n",
       "      <td>5139800</td>\n",
       "    </tr>\n",
       "    <tr>\n",
       "      <th>4</th>\n",
       "      <td>20.000000</td>\n",
       "      <td>20.000000</td>\n",
       "      <td>15.830000</td>\n",
       "      <td>16.110001</td>\n",
       "      <td>6866900</td>\n",
       "    </tr>\n",
       "    <tr>\n",
       "      <th>...</th>\n",
       "      <td>...</td>\n",
       "      <td>...</td>\n",
       "      <td>...</td>\n",
       "      <td>...</td>\n",
       "      <td>...</td>\n",
       "    </tr>\n",
       "    <tr>\n",
       "      <th>2137</th>\n",
       "      <td>313.500000</td>\n",
       "      <td>314.500000</td>\n",
       "      <td>295.200012</td>\n",
       "      <td>295.390015</td>\n",
       "      <td>5559900</td>\n",
       "    </tr>\n",
       "    <tr>\n",
       "      <th>2138</th>\n",
       "      <td>300.000000</td>\n",
       "      <td>326.970001</td>\n",
       "      <td>294.089996</td>\n",
       "      <td>326.089996</td>\n",
       "      <td>8163100</td>\n",
       "    </tr>\n",
       "    <tr>\n",
       "      <th>2139</th>\n",
       "      <td>319.839996</td>\n",
       "      <td>322.170013</td>\n",
       "      <td>301.500000</td>\n",
       "      <td>316.130005</td>\n",
       "      <td>8575100</td>\n",
       "    </tr>\n",
       "    <tr>\n",
       "      <th>2140</th>\n",
       "      <td>323.100006</td>\n",
       "      <td>336.239990</td>\n",
       "      <td>318.410004</td>\n",
       "      <td>333.869995</td>\n",
       "      <td>9939000</td>\n",
       "    </tr>\n",
       "    <tr>\n",
       "      <th>2141</th>\n",
       "      <td>337.790009</td>\n",
       "      <td>339.209991</td>\n",
       "      <td>325.260010</td>\n",
       "      <td>332.799988</td>\n",
       "      <td>6302300</td>\n",
       "    </tr>\n",
       "  </tbody>\n",
       "</table>\n",
       "<p>2142 rows × 5 columns</p>\n",
       "</div>"
      ],
      "text/plain": [
       "            Open        High         Low       Close    Volume\n",
       "0      19.000000   25.000000   17.540001   23.889999  18766300\n",
       "1      25.790001   30.420000   23.299999   23.830000  17187100\n",
       "2      25.000000   25.920000   20.270000   21.959999   8218800\n",
       "3      23.000000   23.100000   18.709999   19.200001   5139800\n",
       "4      20.000000   20.000000   15.830000   16.110001   6866900\n",
       "...          ...         ...         ...         ...       ...\n",
       "2137  313.500000  314.500000  295.200012  295.390015   5559900\n",
       "2138  300.000000  326.970001  294.089996  326.089996   8163100\n",
       "2139  319.839996  322.170013  301.500000  316.130005   8575100\n",
       "2140  323.100006  336.239990  318.410004  333.869995   9939000\n",
       "2141  337.790009  339.209991  325.260010  332.799988   6302300\n",
       "\n",
       "[2142 rows x 5 columns]"
      ]
     },
     "execution_count": 20,
     "metadata": {},
     "output_type": "execute_result"
    }
   ],
   "source": [
    "data = pd.read_csv('TSLA.csv', date_parser = True)\n",
    "data_train = data[data['Date']<'2019-01-01'].copy()\n",
    "data_test = data[data['Date']>='2019-01-01'].copy()\n",
    "data_train = data_train.drop(['Date', 'Adj Close'], axis = 1)\n",
    "data_train"
   ]
  },
  {
   "cell_type": "code",
   "execution_count": 3,
   "metadata": {
    "colab": {
     "base_uri": "https://localhost:8080/",
     "height": 134
    },
    "colab_type": "code",
    "id": "RK_DG9O-y56D",
    "outputId": "f888ee9f-6155-4a96-ecc6-024c998968c5"
   },
   "outputs": [
    {
     "data": {
      "text/plain": [
       "array([[0.00771826, 0.02244089, 0.00702583, 0.02191224, 0.50337694],\n",
       "       [0.02604237, 0.0369725 , 0.02283393, 0.02174973, 0.46074816],\n",
       "       [0.02391041, 0.02490751, 0.01451821, 0.01668472, 0.21865873],\n",
       "       ...,\n",
       "       [0.81959248, 0.81918608, 0.78634354, 0.81346155, 0.22827666],\n",
       "       [0.82839024, 0.85690923, 0.83275242, 0.86151136, 0.26509364],\n",
       "       [0.86803402, 0.86487212, 0.85155201, 0.85861319, 0.16692491]])"
      ]
     },
     "execution_count": 3,
     "metadata": {},
     "output_type": "execute_result"
    }
   ],
   "source": [
    "scaler = MinMaxScaler()\n",
    "data_train = scaler.fit_transform(data_train)\n",
    "data_train"
   ]
  },
  {
   "cell_type": "code",
   "execution_count": 4,
   "metadata": {
    "colab": {},
    "colab_type": "code",
    "id": "YHZLRewAzJxQ"
   },
   "outputs": [],
   "source": [
    "X_train = []\n",
    "y_train = []\n",
    "for i in range(60, data_train.shape[0]):\n",
    "    X_train.append(data_train[i-60:i])\n",
    "    y_train.append(data_train[i, 0])"
   ]
  },
  {
   "cell_type": "code",
   "execution_count": 5,
   "metadata": {
    "colab": {
     "base_uri": "https://localhost:8080/",
     "height": 34
    },
    "colab_type": "code",
    "id": "s4Jx_f0AzdCt",
    "outputId": "fa989a34-d16a-48df-b0b5-f6a55c03bad7"
   },
   "outputs": [
    {
     "data": {
      "text/plain": [
       "(2082, 60, 5)"
      ]
     },
     "execution_count": 5,
     "metadata": {},
     "output_type": "execute_result"
    }
   ],
   "source": [
    "X_train, y_train = np.array(X_train), np.array(y_train)\n",
    "X_train.shape"
   ]
  },
  {
   "cell_type": "code",
   "execution_count": 6,
   "metadata": {
    "colab": {},
    "colab_type": "code",
    "id": "5-_EgkFeFtC8"
   },
   "outputs": [],
   "source": [
    "from tensorflow.keras import Sequential\n",
    "from tensorflow.keras.layers import Dense, LSTM, Dropout\n",
    "model = Sequential()\n",
    "\n",
    "model.add(LSTM(units = 60, activation = 'relu', return_sequences = True, input_shape = (X_train.shape[1], 5)))\n",
    "model.add(Dropout(0.2))\n",
    "\n",
    "model.add(LSTM(units = 200, activation = 'relu', return_sequences = True))\n",
    "model.add(Dropout(0.2))\n",
    "\n",
    "model.add(LSTM(units = 80, activation = 'relu'))\n",
    "model.add(Dropout(0.2))\n",
    "\n",
    "model.add(Dense(units = 1))"
   ]
  },
  {
   "cell_type": "code",
   "execution_count": 7,
   "metadata": {
    "colab": {
     "base_uri": "https://localhost:8080/",
     "height": 454
    },
    "colab_type": "code",
    "id": "sTC6lmgTFtAm",
    "outputId": "1f6136f8-ba0f-4fa4-8acd-aea34aa514d8"
   },
   "outputs": [
    {
     "name": "stdout",
     "output_type": "stream",
     "text": [
      "Model: \"sequential\"\n",
      "_________________________________________________________________\n",
      "Layer (type)                 Output Shape              Param #   \n",
      "=================================================================\n",
      "lstm (LSTM)                  (None, 60, 60)            15840     \n",
      "_________________________________________________________________\n",
      "dropout (Dropout)            (None, 60, 60)            0         \n",
      "_________________________________________________________________\n",
      "lstm_1 (LSTM)                (None, 60, 200)           208800    \n",
      "_________________________________________________________________\n",
      "dropout_1 (Dropout)          (None, 60, 200)           0         \n",
      "_________________________________________________________________\n",
      "lstm_2 (LSTM)                (None, 80)                89920     \n",
      "_________________________________________________________________\n",
      "dropout_2 (Dropout)          (None, 80)                0         \n",
      "_________________________________________________________________\n",
      "dense (Dense)                (None, 1)                 81        \n",
      "=================================================================\n",
      "Total params: 314,641\n",
      "Trainable params: 314,641\n",
      "Non-trainable params: 0\n",
      "_________________________________________________________________\n"
     ]
    }
   ],
   "source": [
    "model.summary()"
   ]
  },
  {
   "cell_type": "code",
   "execution_count": 8,
   "metadata": {
    "colab": {
     "base_uri": "https://localhost:8080/",
     "height": 1000
    },
    "colab_type": "code",
    "id": "kvUJkPM0Fs-H",
    "outputId": "c7597d13-989c-4fb7-ef28-6fd4f6470556"
   },
   "outputs": [
    {
     "name": "stdout",
     "output_type": "stream",
     "text": [
      "Train on 2082 samples\n",
      "Epoch 1/30\n",
      "2082/2082 [==============================] - 29s 14ms/sample - loss: 0.0249\n",
      "Epoch 2/30\n",
      "2082/2082 [==============================] - 19s 9ms/sample - loss: 0.0056\n",
      "Epoch 3/30\n",
      "2082/2082 [==============================] - 23s 11ms/sample - loss: 0.0046\n",
      "Epoch 4/30\n",
      "2082/2082 [==============================] - 23s 11ms/sample - loss: 0.0045\n",
      "Epoch 5/30\n",
      "2082/2082 [==============================] - 21s 10ms/sample - loss: 0.0040\n",
      "Epoch 6/30\n",
      "2082/2082 [==============================] - 20s 10ms/sample - loss: 0.0040\n",
      "Epoch 7/30\n",
      "2082/2082 [==============================] - 23s 11ms/sample - loss: 0.0037\n",
      "Epoch 8/30\n",
      "2082/2082 [==============================] - 24s 11ms/sample - loss: 0.0036\n",
      "Epoch 9/30\n",
      "2082/2082 [==============================] - 22s 11ms/sample - loss: 0.0035\n",
      "Epoch 10/30\n",
      "2082/2082 [==============================] - 22s 11ms/sample - loss: 0.0040\n",
      "Epoch 11/30\n",
      "2082/2082 [==============================] - 21s 10ms/sample - loss: 0.0041\n",
      "Epoch 12/30\n",
      "2082/2082 [==============================] - 24s 11ms/sample - loss: 0.0032\n",
      "Epoch 13/30\n",
      "2082/2082 [==============================] - 22s 11ms/sample - loss: 0.0032\n",
      "Epoch 14/30\n",
      "2082/2082 [==============================] - 23s 11ms/sample - loss: 0.0031\n",
      "Epoch 15/30\n",
      "2082/2082 [==============================] - 24s 11ms/sample - loss: 0.0035\n",
      "Epoch 16/30\n",
      "2082/2082 [==============================] - 24s 11ms/sample - loss: 0.0029\n",
      "Epoch 17/30\n",
      "2082/2082 [==============================] - 19s 9ms/sample - loss: 0.0028\n",
      "Epoch 18/30\n",
      "2082/2082 [==============================] - 20s 10ms/sample - loss: 0.0026\n",
      "Epoch 19/30\n",
      "2082/2082 [==============================] - 19s 9ms/sample - loss: 0.0026\n",
      "Epoch 20/30\n",
      "2082/2082 [==============================] - 21s 10ms/sample - loss: 0.0025\n",
      "Epoch 21/30\n",
      "2082/2082 [==============================] - 18s 9ms/sample - loss: 0.0024\n",
      "Epoch 22/30\n",
      "2082/2082 [==============================] - 20s 10ms/sample - loss: 0.0024\n",
      "Epoch 23/30\n",
      "2082/2082 [==============================] - 20s 9ms/sample - loss: 0.0023\n",
      "Epoch 24/30\n",
      "2082/2082 [==============================] - 19s 9ms/sample - loss: 0.0023\n",
      "Epoch 25/30\n",
      "2082/2082 [==============================] - 18s 9ms/sample - loss: 0.0022\n",
      "Epoch 26/30\n",
      "2082/2082 [==============================] - 17s 8ms/sample - loss: 0.0027\n",
      "Epoch 27/30\n",
      "2082/2082 [==============================] - 18s 8ms/sample - loss: 0.0023\n",
      "Epoch 28/30\n",
      "2082/2082 [==============================] - 19s 9ms/sample - loss: 0.0021\n",
      "Epoch 29/30\n",
      "2082/2082 [==============================] - 21s 10ms/sample - loss: 0.0019\n",
      "Epoch 30/30\n",
      "2082/2082 [==============================] - 21s 10ms/sample - loss: 0.0021\n"
     ]
    },
    {
     "data": {
      "text/plain": [
       "<tensorflow.python.keras.callbacks.History at 0x270e3342048>"
      ]
     },
     "execution_count": 8,
     "metadata": {},
     "output_type": "execute_result"
    }
   ],
   "source": [
    "model.compile(optimizer='adam', loss = 'mean_squared_error')\n",
    "model.fit(X_train, y_train, epochs=30, batch_size=30)"
   ]
  },
  {
   "cell_type": "code",
   "execution_count": 19,
   "metadata": {
    "colab": {
     "base_uri": "https://localhost:8080/",
     "height": 1000
    },
    "colab_type": "code",
    "id": "AvGmCSH0Fs7-",
    "outputId": "0cb6c8fd-1422-4205-cbe9-8aed4b245ec3"
   },
   "outputs": [],
   "source": [
    "data_train = data[data['Date']<'2019-01-01'].copy()\n",
    "#data_train.tail(60)"
   ]
  },
  {
   "cell_type": "code",
   "execution_count": 10,
   "metadata": {
    "colab": {
     "base_uri": "https://localhost:8080/",
     "height": 195
    },
    "colab_type": "code",
    "id": "dBEu9I5LFs3t",
    "outputId": "93a75167-39e1-4c50-dd52-41c7f862b77f"
   },
   "outputs": [
    {
     "data": {
      "text/html": [
       "<div>\n",
       "<style scoped>\n",
       "    .dataframe tbody tr th:only-of-type {\n",
       "        vertical-align: middle;\n",
       "    }\n",
       "\n",
       "    .dataframe tbody tr th {\n",
       "        vertical-align: top;\n",
       "    }\n",
       "\n",
       "    .dataframe thead th {\n",
       "        text-align: right;\n",
       "    }\n",
       "</style>\n",
       "<table border=\"1\" class=\"dataframe\">\n",
       "  <thead>\n",
       "    <tr style=\"text-align: right;\">\n",
       "      <th></th>\n",
       "      <th>Open</th>\n",
       "      <th>High</th>\n",
       "      <th>Low</th>\n",
       "      <th>Close</th>\n",
       "      <th>Volume</th>\n",
       "    </tr>\n",
       "  </thead>\n",
       "  <tbody>\n",
       "    <tr>\n",
       "      <th>0</th>\n",
       "      <td>293.950012</td>\n",
       "      <td>294.000000</td>\n",
       "      <td>277.670013</td>\n",
       "      <td>281.829987</td>\n",
       "      <td>9814200</td>\n",
       "    </tr>\n",
       "    <tr>\n",
       "      <th>1</th>\n",
       "      <td>274.649994</td>\n",
       "      <td>274.880005</td>\n",
       "      <td>260.000000</td>\n",
       "      <td>261.950012</td>\n",
       "      <td>17944500</td>\n",
       "    </tr>\n",
       "    <tr>\n",
       "      <th>2</th>\n",
       "      <td>264.519989</td>\n",
       "      <td>267.760010</td>\n",
       "      <td>249.000000</td>\n",
       "      <td>250.559998</td>\n",
       "      <td>13472700</td>\n",
       "    </tr>\n",
       "    <tr>\n",
       "      <th>3</th>\n",
       "      <td>255.250000</td>\n",
       "      <td>266.769989</td>\n",
       "      <td>253.300003</td>\n",
       "      <td>262.799988</td>\n",
       "      <td>12060600</td>\n",
       "    </tr>\n",
       "    <tr>\n",
       "      <th>4</th>\n",
       "      <td>264.609985</td>\n",
       "      <td>265.510010</td>\n",
       "      <td>247.770004</td>\n",
       "      <td>256.880005</td>\n",
       "      <td>12815300</td>\n",
       "    </tr>\n",
       "    <tr>\n",
       "      <th>...</th>\n",
       "      <td>...</td>\n",
       "      <td>...</td>\n",
       "      <td>...</td>\n",
       "      <td>...</td>\n",
       "      <td>...</td>\n",
       "    </tr>\n",
       "    <tr>\n",
       "      <th>359</th>\n",
       "      <td>640.200012</td>\n",
       "      <td>653.580017</td>\n",
       "      <td>613.000000</td>\n",
       "      <td>634.229980</td>\n",
       "      <td>13322500</td>\n",
       "    </tr>\n",
       "    <tr>\n",
       "      <th>360</th>\n",
       "      <td>580.890015</td>\n",
       "      <td>594.500000</td>\n",
       "      <td>546.250000</td>\n",
       "      <td>560.549988</td>\n",
       "      <td>18909100</td>\n",
       "    </tr>\n",
       "    <tr>\n",
       "      <th>361</th>\n",
       "      <td>595.000000</td>\n",
       "      <td>607.570007</td>\n",
       "      <td>502.000000</td>\n",
       "      <td>546.619995</td>\n",
       "      <td>22640300</td>\n",
       "    </tr>\n",
       "    <tr>\n",
       "      <th>362</th>\n",
       "      <td>469.500000</td>\n",
       "      <td>494.869995</td>\n",
       "      <td>442.170013</td>\n",
       "      <td>445.070007</td>\n",
       "      <td>20489500</td>\n",
       "    </tr>\n",
       "    <tr>\n",
       "      <th>363</th>\n",
       "      <td>440.010010</td>\n",
       "      <td>471.850006</td>\n",
       "      <td>396.000000</td>\n",
       "      <td>430.200012</td>\n",
       "      <td>23914500</td>\n",
       "    </tr>\n",
       "  </tbody>\n",
       "</table>\n",
       "<p>364 rows × 5 columns</p>\n",
       "</div>"
      ],
      "text/plain": [
       "           Open        High         Low       Close    Volume\n",
       "0    293.950012  294.000000  277.670013  281.829987   9814200\n",
       "1    274.649994  274.880005  260.000000  261.950012  17944500\n",
       "2    264.519989  267.760010  249.000000  250.559998  13472700\n",
       "3    255.250000  266.769989  253.300003  262.799988  12060600\n",
       "4    264.609985  265.510010  247.770004  256.880005  12815300\n",
       "..          ...         ...         ...         ...       ...\n",
       "359  640.200012  653.580017  613.000000  634.229980  13322500\n",
       "360  580.890015  594.500000  546.250000  560.549988  18909100\n",
       "361  595.000000  607.570007  502.000000  546.619995  22640300\n",
       "362  469.500000  494.869995  442.170013  445.070007  20489500\n",
       "363  440.010010  471.850006  396.000000  430.200012  23914500\n",
       "\n",
       "[364 rows x 5 columns]"
      ]
     },
     "execution_count": 10,
     "metadata": {},
     "output_type": "execute_result"
    }
   ],
   "source": [
    "past_60_days = data_train.tail(60)\n",
    "df = past_60_days.append(data_test, ignore_index = True)\n",
    "df = df.drop(['Date', 'Adj Close'], axis = 1)\n",
    "df"
   ]
  },
  {
   "cell_type": "code",
   "execution_count": 11,
   "metadata": {
    "colab": {
     "base_uri": "https://localhost:8080/",
     "height": 134
    },
    "colab_type": "code",
    "id": "bPCQs8ghFs1z",
    "outputId": "8069037f-2d58-45dc-ba07-ca86eab206f4"
   },
   "outputs": [
    {
     "data": {
      "text/plain": [
       "array([[0.74972341, 0.74365921, 0.72094302, 0.72055793, 0.2617248 ],\n",
       "       [0.69763863, 0.69239642, 0.67244832, 0.66671184, 0.48119335],\n",
       "       [0.67030087, 0.67330693, 0.64225923, 0.63586132, 0.360482  ],\n",
       "       ...,\n",
       "       [1.56216434, 1.58437458, 1.33660837, 1.4377573 , 0.60795132],\n",
       "       [1.22347861, 1.28221356, 1.17240718, 1.16270316, 0.54989283],\n",
       "       [1.14389423, 1.22049446, 1.04569529, 1.1224269 , 0.64234696]])"
      ]
     },
     "execution_count": 11,
     "metadata": {},
     "output_type": "execute_result"
    }
   ],
   "source": [
    "inputs = scaler.transform(df)\n",
    "inputs"
   ]
  },
  {
   "cell_type": "code",
   "execution_count": 12,
   "metadata": {
    "colab": {},
    "colab_type": "code",
    "id": "zSm7zinIFszd"
   },
   "outputs": [],
   "source": [
    "X_test = []\n",
    "y_test = []\n",
    "for i in range(60, inputs.shape[0]):\n",
    "    X_test.append(inputs[i-60:i])\n",
    "    y_test.append(inputs[i, 0])"
   ]
  },
  {
   "cell_type": "code",
   "execution_count": 13,
   "metadata": {
    "colab": {
     "base_uri": "https://localhost:8080/",
     "height": 34
    },
    "colab_type": "code",
    "id": "v2NeHBYlFsws",
    "outputId": "bae305af-5454-4d18-ee27-96ec4d67c25b"
   },
   "outputs": [
    {
     "data": {
      "text/plain": [
       "((304, 60, 5), (304,))"
      ]
     },
     "execution_count": 13,
     "metadata": {},
     "output_type": "execute_result"
    }
   ],
   "source": [
    "X_test, y_test = np.array(X_test), np.array(y_test)\n",
    "X_test.shape, y_test.shape"
   ]
  },
  {
   "cell_type": "code",
   "execution_count": 14,
   "metadata": {
    "colab": {
     "base_uri": "https://localhost:8080/",
     "height": 50
    },
    "colab_type": "code",
    "id": "bxFa6rqOFsuZ",
    "outputId": "6638ff93-718e-4221-dcd0-b3fb54abe1fb"
   },
   "outputs": [
    {
     "data": {
      "text/plain": [
       "array([2.69869111e-03, 2.68110901e-03, 2.74446300e-03, 2.70855905e-03,\n",
       "       2.69939048e-08])"
      ]
     },
     "execution_count": 14,
     "metadata": {},
     "output_type": "execute_result"
    }
   ],
   "source": [
    "y_pred = model.predict(X_test)\n",
    "scaler.scale_"
   ]
  },
  {
   "cell_type": "code",
   "execution_count": 15,
   "metadata": {
    "colab": {
     "base_uri": "https://localhost:8080/",
     "height": 34
    },
    "colab_type": "code",
    "id": "E3LIse3mFssG",
    "outputId": "d3b6acfd-884e-4a61-f6d4-3f6ec226a81e"
   },
   "outputs": [
    {
     "data": {
      "text/plain": [
       "370.55000340516926"
      ]
     },
     "execution_count": 15,
     "metadata": {},
     "output_type": "execute_result"
    }
   ],
   "source": [
    "scale = 1/2.69869111e-03\n",
    "scale"
   ]
  },
  {
   "cell_type": "code",
   "execution_count": 16,
   "metadata": {
    "colab": {},
    "colab_type": "code",
    "id": "yHVlKenPFsp8"
   },
   "outputs": [],
   "source": [
    "y_pred = y_pred*scale\n",
    "y_test = y_test*scale"
   ]
  },
  {
   "cell_type": "code",
   "execution_count": 17,
   "metadata": {
    "colab": {
     "base_uri": "https://localhost:8080/",
     "height": 350
    },
    "colab_type": "code",
    "id": "0XOHIrutFska",
    "outputId": "2c7aa0e4-2308-417a-dddb-281be2d1a3a4"
   },
   "outputs": [
    {
     "data": {
      "image/png": "[encoded data removed]",
      "text/plain": [
       "<Figure size 1152x576 with 1 Axes>"
      ]
     },
     "metadata": {
      "needs_background": "light"
     },
     "output_type": "display_data"
    }
   ],
   "source": [
    "plt.figure(figsize=(16,8))\n",
    "plt.plot(y_test, color = 'red', label = 'Real Tesla Stock Price')\n",
    "plt.plot(y_pred, color = 'blue', label = 'Predicted Tesla Stock Price')\n",
    "plt.title('Tesla Stock Price Prediction')\n",
    "plt.xlabel('Time')\n",
    "plt.ylabel('Tesla Stock Price')\n",
    "plt.legend()\n",
    "plt.show()"
   ]
  },
  {
   "cell_type": "code",
   "execution_count": null,
   "metadata": {},
   "outputs": [],
   "source": [
    "print(y_pred[20])\n",
    "print(y_test[20])"
   ]
  }
 ],
 "metadata": {
  "colab": {
   "collapsed_sections": [],
   "name": "FinalProject2.ipynb",
   "provenance": []
  },
  "kernelspec": {
   "display_name": "Python 3",
   "language": "python",
   "name": "python3"
  },
  "language_info": {
   "codemirror_mode": {
    "name": "ipython",
    "version": 3
   },
   "file_extension": ".py",
   "mimetype": "text/x-python",
   "name": "python",
   "nbconvert_exporter": "python",
   "pygments_lexer": "ipython3",
   "version": "3.7.4"
  }
 },
 "nbformat": 4,
 "nbformat_minor": 1
}
